{
 "cells": [
  {
   "cell_type": "code",
   "execution_count": 6,
   "metadata": {},
   "outputs": [
    {
     "name": "stdout",
     "output_type": "stream",
     "text": [
      "Enter probability P(A) in the form x/y: 11/36\n",
      "Enter probability P(B) in the form x/y: 6/36\n",
      "Enter probability P(A|B) in the form x/y: 2/36\n",
      "P(A) = 0.3055555555555556\n",
      "P(B) = 0.16666666666666666\n",
      "P(A|B) = 0.05555555555555555\n",
      "P(B|A) = 0.0303030303030303\n"
     ]
    }
   ],
   "source": [
    "'''\n",
    "Q.1 - Consider the below given probabilities: \n",
    "P(A) = 11 / 36\n",
    "P(B) = 6 / 36\n",
    "P(A|B) = 2 / 36\n",
    "Write a function in Python which takes 3 probabilities as argument and outputs the Conditional probability P(B|A).\n",
    "'''\n",
    "def convertProbabilityInput(inp):\n",
    "    p=inp.split('/')\n",
    "    for i in range(len(p)):\n",
    "        p[i]=float(p[i])\n",
    "    return(p[0]/p[1])\n",
    "\n",
    "def ConditionalProb(p1,p2,p3):\n",
    "    return ((p3*p2)/p1)\n",
    "    \n",
    "p1=convertProbabilityInput(input(\"Enter probability P(A) in the form x/y: \"))\n",
    "p2=convertProbabilityInput(input(\"Enter probability P(B) in the form x/y: \"))\n",
    "p3=convertProbabilityInput(input(\"Enter probability P(A|B) in the form x/y: \"))\n",
    "\n",
    "print(\"P(A) = {}\\nP(B) = {}\\nP(A|B) = {}\\nP(B|A) = {}\".format(p1,p2,p3,ConditionalProb(p1,p2,p3)))\n",
    "\n",
    "\n",
    "\n"
   ]
  },
  {
   "cell_type": "code",
   "execution_count": 13,
   "metadata": {},
   "outputs": [
    {
     "name": "stdout",
     "output_type": "stream",
     "text": [
      "Enter number of white balls in Bag I: 4\n",
      "Enter number of black balls in Bag I: 6\n",
      "Enter number of white balls in Bag II: 4\n",
      "Enter number of black balls in Bag II: 3\n",
      "If, one ball is drawn at random from one of the bags and it is found to be black.\n",
      " \n",
      "The probability that the ball was drawn from Bag I = 0.5833333333333334\n"
     ]
    }
   ],
   "source": [
    "'''\n",
    "Q.2 - Bag I contains 4 white and 6 black balls \n",
    "while another Bag II contains 4 white and 3 black balls. \n",
    "One ball is drawn at random from one of the bags and it is found to be black. \n",
    "Find the probability that it was drawn from Bag I.\n",
    "'''\n",
    "\n",
    "\n",
    "b1w=int(input(\"Enter number of white balls in Bag I: \"))\n",
    "b1b=int(input(\"Enter number of black balls in Bag I: \"))\n",
    "b2w=int(input(\"Enter number of white balls in Bag II: \"))\n",
    "b2b=int(input(\"Enter number of black balls in Bag II: \"))\n",
    "\n",
    "'''\n",
    "p(B1/B)=(P(B/B1)*P(B1))/((P(B/B1)*P(B1))+(P(B/B2)*P(B2)))\n",
    "'''\n",
    "\n",
    "\n",
    "pbob1=b1b/(b1w+b1b)\n",
    "pb1=0.5\n",
    "pbob2=b2b/(b2w+b2b)\n",
    "pb2=0.5\n",
    "\n",
    "pb1ob=(pbob1*pb1)/((pbob1*pb1)+(pbob2*pb2))\n",
    "\n",
    "print(\"If, one ball is drawn at random from one of the bags and it is found to be black.\\n \")\n",
    "print(\"The probability that the ball was drawn from Bag I = {}\".format(pb1ob))"
   ]
  },
  {
   "cell_type": "code",
   "execution_count": 6,
   "metadata": {},
   "outputs": [
    {
     "name": "stdout",
     "output_type": "stream",
     "text": [
      "Enter how many times the man is know to speak the truth? \n",
      "X out of Y times\n",
      "in the form X/Y: 2/3\n",
      "Probability of man speaking the truth = 0.6666666666666666\n",
      "Probability of man lying = 0.33333333333333337\n",
      "Probability of Throwing a die getting 4 while man speaks truth = 0.16666666666666666\n",
      "Probability of Throwing a die getting 4 while man lies = 0.8333333333333334\n",
      "\n",
      "If the man throws a die and reports that number obtained is a four.\n",
      "Probability that Number obtained is actually a four = 0.28571428571428564\n"
     ]
    }
   ],
   "source": [
    "'''\n",
    "Q.3 - A man is known to speak truth 2 out of 3 times. \n",
    "He throws a die and reports that number obtained is a four. \n",
    "Find the probability that the number obtained is actually a four.\n",
    "'''\n",
    "\n",
    "def convertProbabilityInput(inp):\n",
    "    p=inp.split('/')\n",
    "    for i in range(len(p)):\n",
    "        p[i]=float(p[i])\n",
    "    return(p[0]/p[1])\n",
    "\n",
    "s1=convertProbabilityInput(input(\"Enter how many times the man is know to speak the truth? \\nX out of Y times\\nin the form X/Y: \"))\n",
    "s2=1-s1\n",
    "eos1=1/6\n",
    "eos2=1-eos1\n",
    "\n",
    "'''\n",
    "S1: Man Speaks the truth\n",
    "S2: Man lies\n",
    "E: Throwing a die and getting 4\n",
    "P(S1/E)=(P(E/S1)*P(S1))/((P(E/S1)*P(S1))+(P(E/S2)*P(S2)))\n",
    "'''\n",
    "print(\"Probability of man speaking the truth = {}\".format(s1))\n",
    "print(\"Probability of man lying = {}\".format(s2))\n",
    "print(\"Probability of Throwing a die getting 4 while man speaks truth = {}\".format(eos1))\n",
    "print(\"Probability of Throwing a die getting 4 while man lies = {}\".format(eos2))\n",
    "\n",
    "s1oe=(eos1*s1)/((eos1*s1)+(eos2*s2))\n",
    "\n",
    "print(\"\\nIf the man throws a die and reports that number obtained is a four.\")\n",
    "print(\"Probability that Number obtained is actually a four = {}\".format(s1oe))\n",
    "\n",
    "\n",
    "\n",
    "\n"
   ]
  },
  {
   "cell_type": "code",
   "execution_count": null,
   "metadata": {},
   "outputs": [],
   "source": []
  }
 ],
 "metadata": {
  "kernelspec": {
   "display_name": "Python 3",
   "language": "python",
   "name": "python3"
  },
  "language_info": {
   "codemirror_mode": {
    "name": "ipython",
    "version": 3
   },
   "file_extension": ".py",
   "mimetype": "text/x-python",
   "name": "python",
   "nbconvert_exporter": "python",
   "pygments_lexer": "ipython3",
   "version": "3.6.5"
  }
 },
 "nbformat": 4,
 "nbformat_minor": 2
}
